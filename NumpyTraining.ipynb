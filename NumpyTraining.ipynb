{
  "nbformat": 4,
  "nbformat_minor": 0,
  "metadata": {
    "colab": {
      "provenance": [],
      "authorship_tag": "ABX9TyPmjs8ZWjMiHDq2UW9yErUF",
      "include_colab_link": true
    },
    "kernelspec": {
      "name": "python3",
      "display_name": "Python 3"
    },
    "language_info": {
      "name": "python"
    }
  },
  "cells": [
    {
      "cell_type": "markdown",
      "metadata": {
        "id": "view-in-github",
        "colab_type": "text"
      },
      "source": [
        "<a href=\"https://colab.research.google.com/github/Abishek92004/MyData/blob/main/NumpyTraining.ipynb\" target=\"_parent\"><img src=\"https://colab.research.google.com/assets/colab-badge.svg\" alt=\"Open In Colab\"/></a>"
      ]
    },
    {
      "cell_type": "code",
      "execution_count": 1,
      "metadata": {
        "id": "UK0cNS6AGr_f"
      },
      "outputs": [],
      "source": [
        "import numpy as np"
      ]
    },
    {
      "cell_type": "code",
      "source": [
        "a=np.array([1,2,3,4])\n",
        "print('a:\\n',a)"
      ],
      "metadata": {
        "id": "6l5lY-AO91bt",
        "outputId": "010cdde7-1760-4793-8a9c-c0af1215d319",
        "colab": {
          "base_uri": "https://localhost:8080/"
        }
      },
      "execution_count": 2,
      "outputs": [
        {
          "output_type": "stream",
          "name": "stdout",
          "text": [
            "a:\n",
            " [1 2 3 4]\n"
          ]
        }
      ]
    },
    {
      "cell_type": "code",
      "source": [
        "np.random.randint(5)"
      ],
      "metadata": {
        "id": "Eof7IwCP-UIZ",
        "outputId": "9bfc9cdf-6d15-4fe9-edca-4c687f7560a0",
        "colab": {
          "base_uri": "https://localhost:8080/"
        }
      },
      "execution_count": 17,
      "outputs": [
        {
          "output_type": "execute_result",
          "data": {
            "text/plain": [
              "0"
            ]
          },
          "metadata": {},
          "execution_count": 17
        }
      ]
    },
    {
      "cell_type": "code",
      "source": [
        "b=np.array([[1,2],[3,4]])\n",
        "print('b:\\n',b)"
      ],
      "metadata": {
        "id": "lScSOJtO-sgo",
        "outputId": "398dadeb-e9d2-441f-d670-8187c03a9a79",
        "colab": {
          "base_uri": "https://localhost:8080/"
        }
      },
      "execution_count": 19,
      "outputs": [
        {
          "output_type": "stream",
          "name": "stdout",
          "text": [
            "b:\n",
            " [[1 2]\n",
            " [3 4]]\n"
          ]
        }
      ]
    },
    {
      "cell_type": "code",
      "source": [
        "b.shape"
      ],
      "metadata": {
        "id": "_14NluBL-7CZ",
        "outputId": "db259aab-cd6d-42b6-f8b9-b4a5d13dd397",
        "colab": {
          "base_uri": "https://localhost:8080/"
        }
      },
      "execution_count": 21,
      "outputs": [
        {
          "output_type": "execute_result",
          "data": {
            "text/plain": [
              "(2, 2)"
            ]
          },
          "metadata": {},
          "execution_count": 21
        }
      ]
    },
    {
      "cell_type": "code",
      "source": [
        "a.shape\n"
      ],
      "metadata": {
        "id": "npylfkKI_HM6",
        "outputId": "a8d094c9-a277-479d-947d-bcad407b9689",
        "colab": {
          "base_uri": "https://localhost:8080/"
        }
      },
      "execution_count": 23,
      "outputs": [
        {
          "output_type": "execute_result",
          "data": {
            "text/plain": [
              "(4,)"
            ]
          },
          "metadata": {},
          "execution_count": 23
        }
      ]
    },
    {
      "cell_type": "code",
      "source": [
        "a=a.reshape(2,2)\n",
        "print(a)"
      ],
      "metadata": {
        "id": "R_eDZkt9_Ou1",
        "outputId": "2f2f38f9-2fcc-4e63-ef56-cd21621a51f4",
        "colab": {
          "base_uri": "https://localhost:8080/"
        }
      },
      "execution_count": 24,
      "outputs": [
        {
          "output_type": "stream",
          "name": "stdout",
          "text": [
            "[[1 2]\n",
            " [3 4]]\n"
          ]
        }
      ]
    },
    {
      "cell_type": "code",
      "source": [
        "np.arange(10).reshape(5,2)"
      ],
      "metadata": {
        "id": "loYsLe_A_eyR",
        "outputId": "bf270301-fe57-4c15-8ad1-a967c41bf036",
        "colab": {
          "base_uri": "https://localhost:8080/"
        }
      },
      "execution_count": 28,
      "outputs": [
        {
          "output_type": "execute_result",
          "data": {
            "text/plain": [
              "array([[0, 1],\n",
              "       [2, 3],\n",
              "       [4, 5],\n",
              "       [6, 7],\n",
              "       [8, 9]])"
            ]
          },
          "metadata": {},
          "execution_count": 28
        }
      ]
    },
    {
      "cell_type": "code",
      "source": [
        "zero_cols=np.zeros((5,))\n",
        "zero_cols\n"
      ],
      "metadata": {
        "id": "tNo8Wm0O_s56",
        "outputId": "7c967766-9d89-432f-f042-b9f3e519625a",
        "colab": {
          "base_uri": "https://localhost:8080/"
        }
      },
      "execution_count": 38,
      "outputs": [
        {
          "output_type": "execute_result",
          "data": {
            "text/plain": [
              "array([0., 0., 0., 0., 0.])"
            ]
          },
          "metadata": {},
          "execution_count": 38
        }
      ]
    },
    {
      "cell_type": "code",
      "source": [
        "one_cols=np.ones((5,2))\n",
        "one_cols"
      ],
      "metadata": {
        "id": "AdF2gmvM_6ea",
        "outputId": "8e6d3877-b6c8-41d9-b1bf-00a28f6dfe2a",
        "colab": {
          "base_uri": "https://localhost:8080/"
        }
      },
      "execution_count": 39,
      "outputs": [
        {
          "output_type": "execute_result",
          "data": {
            "text/plain": [
              "array([[1., 1.],\n",
              "       [1., 1.],\n",
              "       [1., 1.],\n",
              "       [1., 1.],\n",
              "       [1., 1.]])"
            ]
          },
          "metadata": {},
          "execution_count": 39
        }
      ]
    },
    {
      "cell_type": "code",
      "source": [
        "np.column_stack((one_cols,zero_cols))"
      ],
      "metadata": {
        "id": "fagQYhj2AG0g",
        "outputId": "11accf30-3346-4d36-fadd-315d55ee0bae",
        "colab": {
          "base_uri": "https://localhost:8080/"
        }
      },
      "execution_count": 42,
      "outputs": [
        {
          "output_type": "execute_result",
          "data": {
            "text/plain": [
              "array([[1., 1., 0.],\n",
              "       [1., 1., 0.],\n",
              "       [1., 1., 0.],\n",
              "       [1., 1., 0.],\n",
              "       [1., 1., 0.]])"
            ]
          },
          "metadata": {},
          "execution_count": 42
        }
      ]
    },
    {
      "cell_type": "code",
      "source": [
        "a=np.arange(12).reshape((3,4))\n",
        "print(a)"
      ],
      "metadata": {
        "id": "CgDqFmsBBMb8",
        "outputId": "8ad60501-7d23-4f1e-831a-1bd614f22b21",
        "colab": {
          "base_uri": "https://localhost:8080/"
        }
      },
      "execution_count": 43,
      "outputs": [
        {
          "output_type": "stream",
          "name": "stdout",
          "text": [
            "[[ 0  1  2  3]\n",
            " [ 4  5  6  7]\n",
            " [ 8  9 10 11]]\n"
          ]
        }
      ]
    },
    {
      "cell_type": "code",
      "source": [
        "print(100 + a)"
      ],
      "metadata": {
        "id": "Z0RMTUHWBYyu",
        "outputId": "7760b5ba-4822-484d-b89e-02440bc191c1",
        "colab": {
          "base_uri": "https://localhost:8080/"
        }
      },
      "execution_count": 44,
      "outputs": [
        {
          "output_type": "stream",
          "name": "stdout",
          "text": [
            "[[100 101 102 103]\n",
            " [104 105 106 107]\n",
            " [108 109 110 111]]\n"
          ]
        }
      ]
    },
    {
      "cell_type": "code",
      "source": [
        "print(2**a)"
      ],
      "metadata": {
        "id": "d2vi3VZaBpoQ",
        "outputId": "33b1c6bd-23a7-4603-9b44-da6e6493bb69",
        "colab": {
          "base_uri": "https://localhost:8080/"
        }
      },
      "execution_count": 45,
      "outputs": [
        {
          "output_type": "stream",
          "name": "stdout",
          "text": [
            "[[   1    2    4    8]\n",
            " [  16   32   64  128]\n",
            " [ 256  512 1024 2048]]\n"
          ]
        }
      ]
    },
    {
      "cell_type": "code",
      "source": [
        "print(a**2)"
      ],
      "metadata": {
        "id": "AVWVUjyLBvRP",
        "outputId": "9dce5a5d-a74f-4efe-afb8-23b10e686c5f",
        "colab": {
          "base_uri": "https://localhost:8080/"
        }
      },
      "execution_count": 46,
      "outputs": [
        {
          "output_type": "stream",
          "name": "stdout",
          "text": [
            "[[  0   1   4   9]\n",
            " [ 16  25  36  49]\n",
            " [ 64  81 100 121]]\n"
          ]
        }
      ]
    },
    {
      "cell_type": "code",
      "source": [
        "a = np.arange(1,21).reshape((4,5))\n",
        "a = a*2\n",
        "a"
      ],
      "metadata": {
        "id": "Ip6pFN5YBy8W",
        "outputId": "0d3b2d44-2e77-4187-c1cf-4140d1e01b18",
        "colab": {
          "base_uri": "https://localhost:8080/"
        }
      },
      "execution_count": 52,
      "outputs": [
        {
          "output_type": "execute_result",
          "data": {
            "text/plain": [
              "array([[ 2,  4,  6,  8, 10],\n",
              "       [12, 14, 16, 18, 20],\n",
              "       [22, 24, 26, 28, 30],\n",
              "       [32, 34, 36, 38, 40]])"
            ]
          },
          "metadata": {},
          "execution_count": 52
        }
      ]
    },
    {
      "cell_type": "code",
      "source": [
        "a>6"
      ],
      "metadata": {
        "id": "uQQJmHVDCiLG",
        "outputId": "e438d29a-a89b-4834-c0f8-31a4c9a77e22",
        "colab": {
          "base_uri": "https://localhost:8080/"
        }
      },
      "execution_count": 53,
      "outputs": [
        {
          "output_type": "execute_result",
          "data": {
            "text/plain": [
              "array([[False, False, False,  True,  True],\n",
              "       [ True,  True,  True,  True,  True],\n",
              "       [ True,  True,  True,  True,  True],\n",
              "       [ True,  True,  True,  True,  True]])"
            ]
          },
          "metadata": {},
          "execution_count": 53
        }
      ]
    },
    {
      "cell_type": "code",
      "source": [
        "(a<3)|(a>8)"
      ],
      "metadata": {
        "id": "AioSlkPKCuW5",
        "outputId": "bb45e859-6fe1-49c9-b20f-f9673f0e01b3",
        "colab": {
          "base_uri": "https://localhost:8080/"
        }
      },
      "execution_count": 55,
      "outputs": [
        {
          "output_type": "execute_result",
          "data": {
            "text/plain": [
              "array([[ True, False, False, False,  True],\n",
              "       [ True,  True,  True,  True,  True],\n",
              "       [ True,  True,  True,  True,  True],\n",
              "       [ True,  True,  True,  True,  True]])"
            ]
          },
          "metadata": {},
          "execution_count": 55
        }
      ]
    },
    {
      "cell_type": "code",
      "source": [
        "a=np.arange(1,6)\n",
        "b=np.arange(6,11)\n",
        "c=np.arange(11,16)\n",
        "d=np.arange(16,21)\n",
        "rstack=np.row_stack((a,b,c,d))\n",
        "print(rstack*2)"
      ],
      "metadata": {
        "id": "zvB_nvo3C7HA",
        "outputId": "5d2b70f9-4652-498d-950c-3cd26b6b8cf7",
        "colab": {
          "base_uri": "https://localhost:8080/"
        }
      },
      "execution_count": 58,
      "outputs": [
        {
          "output_type": "stream",
          "name": "stdout",
          "text": [
            "[[ 2  4  6  8 10]\n",
            " [12 14 16 18 20]\n",
            " [22 24 26 28 30]\n",
            " [32 34 36 38 40]]\n"
          ]
        }
      ]
    },
    {
      "cell_type": "code",
      "source": [
        "a=np.arange(20)\n",
        "print(a[::5])"
      ],
      "metadata": {
        "id": "dhKs-46FDmMj",
        "outputId": "020b2f2a-3bf0-46af-b058-14f194b97a92",
        "colab": {
          "base_uri": "https://localhost:8080/"
        }
      },
      "execution_count": 60,
      "outputs": [
        {
          "output_type": "stream",
          "name": "stdout",
          "text": [
            "[ 0  5 10 15]\n"
          ]
        }
      ]
    },
    {
      "cell_type": "code",
      "source": [
        "a[5:11]=-1\n",
        "print(a)"
      ],
      "metadata": {
        "id": "8kIxgSBED7Gj",
        "outputId": "03071bb6-ffea-408e-855a-6097f347aa32",
        "colab": {
          "base_uri": "https://localhost:8080/"
        }
      },
      "execution_count": 62,
      "outputs": [
        {
          "output_type": "stream",
          "name": "stdout",
          "text": [
            "[ 0  1  2  3  4 -1 -1 -1 -1 -1 -1 11 12 13 14 15 16 17 18 19]\n"
          ]
        }
      ]
    },
    {
      "cell_type": "code",
      "source": [
        "a[[4,5,7]]"
      ],
      "metadata": {
        "id": "DGQlHc3HEFxw",
        "outputId": "c9b00e45-42d3-40fb-dee0-bcc01319f90c",
        "colab": {
          "base_uri": "https://localhost:8080/"
        }
      },
      "execution_count": 63,
      "outputs": [
        {
          "output_type": "execute_result",
          "data": {
            "text/plain": [
              "array([ 4, -1, -1])"
            ]
          },
          "metadata": {},
          "execution_count": 63
        }
      ]
    },
    {
      "cell_type": "code",
      "source": [
        "c=np.arange(12).reshape((3,4))\n",
        "c"
      ],
      "metadata": {
        "id": "qYCVPS-VETYx",
        "outputId": "ef1ef5d0-0768-4576-a502-fc9c1083add6",
        "colab": {
          "base_uri": "https://localhost:8080/"
        }
      },
      "execution_count": 66,
      "outputs": [
        {
          "output_type": "execute_result",
          "data": {
            "text/plain": [
              "array([[ 0,  1,  2,  3],\n",
              "       [ 4,  5,  6,  7],\n",
              "       [ 8,  9, 10, 11]])"
            ]
          },
          "metadata": {},
          "execution_count": 66
        }
      ]
    },
    {
      "cell_type": "code",
      "source": [
        "c[1,2]\n",
        "c[1]"
      ],
      "metadata": {
        "id": "h2EO54baEfpg",
        "outputId": "c4053128-6f74-47be-921c-f36735352d22",
        "colab": {
          "base_uri": "https://localhost:8080/"
        }
      },
      "execution_count": 68,
      "outputs": [
        {
          "output_type": "execute_result",
          "data": {
            "text/plain": [
              "array([4, 5, 6, 7])"
            ]
          },
          "metadata": {},
          "execution_count": 68
        }
      ]
    },
    {
      "cell_type": "code",
      "source": [
        "c[:,2:]"
      ],
      "metadata": {
        "id": "EdlxLPZ9Epqh",
        "outputId": "315474df-3e53-4d39-98f0-dbe8a0fad225",
        "colab": {
          "base_uri": "https://localhost:8080/"
        }
      },
      "execution_count": 70,
      "outputs": [
        {
          "output_type": "execute_result",
          "data": {
            "text/plain": [
              "array([[ 2,  3],\n",
              "       [ 6,  7],\n",
              "       [10, 11]])"
            ]
          },
          "metadata": {},
          "execution_count": 70
        }
      ]
    },
    {
      "cell_type": "code",
      "source": [
        "c[:2]"
      ],
      "metadata": {
        "id": "DIK856qoE8-s",
        "outputId": "be47a45d-0d01-4a0d-8900-c9865e9bb276",
        "colab": {
          "base_uri": "https://localhost:8080/"
        }
      },
      "execution_count": 71,
      "outputs": [
        {
          "output_type": "execute_result",
          "data": {
            "text/plain": [
              "array([[0, 1, 2, 3],\n",
              "       [4, 5, 6, 7]])"
            ]
          },
          "metadata": {},
          "execution_count": 71
        }
      ]
    },
    {
      "cell_type": "code",
      "source": [
        "c[:2,:3]"
      ],
      "metadata": {
        "id": "ss6IozsDFB5c",
        "outputId": "0795b492-d267-466f-f4d1-d9e8bb54d692",
        "colab": {
          "base_uri": "https://localhost:8080/"
        }
      },
      "execution_count": 72,
      "outputs": [
        {
          "output_type": "execute_result",
          "data": {
            "text/plain": [
              "array([[0, 1, 2],\n",
              "       [4, 5, 6]])"
            ]
          },
          "metadata": {},
          "execution_count": 72
        }
      ]
    },
    {
      "cell_type": "code",
      "source": [
        "mat=np.arange(5,25).reshape((4,5))\n",
        "mat=mat*2"
      ],
      "metadata": {
        "id": "XMV18c-oFMOd"
      },
      "execution_count": 82,
      "outputs": []
    },
    {
      "cell_type": "code",
      "source": [
        "mat[3]=np.array([1,2,3,4,5])\n",
        "mat"
      ],
      "metadata": {
        "id": "ObTRKqHsF9aB",
        "outputId": "0d1be392-699c-4c7a-c1fd-11807281e2b1",
        "colab": {
          "base_uri": "https://localhost:8080/"
        }
      },
      "execution_count": 83,
      "outputs": [
        {
          "output_type": "execute_result",
          "data": {
            "text/plain": [
              "array([[10, 12, 14, 16, 18],\n",
              "       [20, 22, 24, 26, 28],\n",
              "       [30, 32, 34, 36, 38],\n",
              "       [ 1,  2,  3,  4,  5]])"
            ]
          },
          "metadata": {},
          "execution_count": 83
        }
      ]
    },
    {
      "cell_type": "code",
      "source": [
        "a=np.array([1,2,3,4])\n",
        "i=np.array([True,False,True,False])\n",
        "a[i]"
      ],
      "metadata": {
        "id": "--F_5hAbGYIr",
        "outputId": "729445b3-1651-42e7-d720-9aa9c3aedca8",
        "colab": {
          "base_uri": "https://localhost:8080/"
        }
      },
      "execution_count": 85,
      "outputs": [
        {
          "output_type": "execute_result",
          "data": {
            "text/plain": [
              "array([1, 3])"
            ]
          },
          "metadata": {},
          "execution_count": 85
        }
      ]
    },
    {
      "cell_type": "code",
      "source": [
        "i=a>5\n",
        "i"
      ],
      "metadata": {
        "id": "93Da6IIGGzaz",
        "outputId": "e40d62e5-dfa7-411f-872c-76417593bfdd",
        "colab": {
          "base_uri": "https://localhost:8080/"
        }
      },
      "execution_count": 87,
      "outputs": [
        {
          "output_type": "execute_result",
          "data": {
            "text/plain": [
              "array([False, False, False, False])"
            ]
          },
          "metadata": {},
          "execution_count": 87
        }
      ]
    },
    {
      "cell_type": "code",
      "source": [
        "names = np.array([\"Cyrus\", \"Darius\", \"Xerxes\"])\n",
        "results = np.array([[17, 14], [20, 18], [13, 15]])\n",
        "results"
      ],
      "metadata": {
        "id": "mlBkkN3bG6ps",
        "outputId": "51a4675e-8d93-4478-883f-41ab2673a1c9",
        "colab": {
          "base_uri": "https://localhost:8080/"
        }
      },
      "execution_count": 88,
      "outputs": [
        {
          "output_type": "execute_result",
          "data": {
            "text/plain": [
              "array([[17, 14],\n",
              "       [20, 18],\n",
              "       [13, 15]])"
            ]
          },
          "metadata": {},
          "execution_count": 88
        }
      ]
    },
    {
      "cell_type": "code",
      "source": [
        "results[names==\"Darius\"]"
      ],
      "metadata": {
        "id": "_O3H_bduHKZr",
        "outputId": "a786feac-e8d0-43bc-975f-3a589290198b",
        "colab": {
          "base_uri": "https://localhost:8080/"
        }
      },
      "execution_count": 89,
      "outputs": [
        {
          "output_type": "execute_result",
          "data": {
            "text/plain": [
              "array([[20, 18]])"
            ]
          },
          "metadata": {},
          "execution_count": 89
        }
      ]
    },
    {
      "cell_type": "code",
      "source": [
        "a=np.random.randn(2,3)\n",
        "a[a<0]=0\n",
        "a"
      ],
      "metadata": {
        "id": "VgsE_65FHg67",
        "outputId": "0f290283-6482-4c92-9350-31491e329ab9",
        "colab": {
          "base_uri": "https://localhost:8080/"
        }
      },
      "execution_count": 92,
      "outputs": [
        {
          "output_type": "execute_result",
          "data": {
            "text/plain": [
              "array([[0.36624858, 0.60808856, 0.        ],\n",
              "       [0.12055902, 1.40202525, 0.        ]])"
            ]
          },
          "metadata": {},
          "execution_count": 92
        }
      ]
    },
    {
      "cell_type": "code",
      "source": [
        "names = np.array([\"Roxana\", \"Statira\", \"Roxana\", \"Statira\", \"Roxana\"])\n",
        "score = np.array([126, 115, 130, 141, 132])\n",
        "score[score<130]"
      ],
      "metadata": {
        "id": "e-AhXbk1IPpz",
        "outputId": "4b16934a-14af-4b87-abc2-dab1b29d6c31",
        "colab": {
          "base_uri": "https://localhost:8080/"
        }
      },
      "execution_count": 94,
      "outputs": [
        {
          "output_type": "execute_result",
          "data": {
            "text/plain": [
              "array([126, 115])"
            ]
          },
          "metadata": {},
          "execution_count": 94
        }
      ]
    },
    {
      "cell_type": "code",
      "source": [
        "score[names==\"Statira\"]"
      ],
      "metadata": {
        "id": "z_ynbEMYIcgL",
        "outputId": "86ff6f00-52c3-42a8-e700-f2c7b9e3b26f",
        "colab": {
          "base_uri": "https://localhost:8080/"
        }
      },
      "execution_count": 95,
      "outputs": [
        {
          "output_type": "execute_result",
          "data": {
            "text/plain": [
              "array([115, 141])"
            ]
          },
          "metadata": {},
          "execution_count": 95
        }
      ]
    },
    {
      "cell_type": "code",
      "source": [
        "score[names == \"Roxana\"] = score[names == \"Roxana\"] + 10\n",
        "score"
      ],
      "metadata": {
        "id": "WwLVCKo-I_vR",
        "outputId": "738daf53-69fa-49bc-8c8e-3e444ba61441",
        "colab": {
          "base_uri": "https://localhost:8080/"
        }
      },
      "execution_count": 101,
      "outputs": [
        {
          "output_type": "execute_result",
          "data": {
            "text/plain": [
              "array([166, 125, 170, 151, 172])"
            ]
          },
          "metadata": {},
          "execution_count": 101
        }
      ]
    },
    {
      "cell_type": "code",
      "source": [
        "x=np.random.choice(6,size=(2,4))\n",
        "x"
      ],
      "metadata": {
        "id": "UFxzCxqhJqgk",
        "outputId": "1d58ad01-0318-4bda-eb1a-89ee82d5db88",
        "colab": {
          "base_uri": "https://localhost:8080/"
        }
      },
      "execution_count": 104,
      "outputs": [
        {
          "output_type": "execute_result",
          "data": {
            "text/plain": [
              "array([[0, 3, 4, 2],\n",
              "       [0, 1, 2, 0]])"
            ]
          },
          "metadata": {},
          "execution_count": 104
        }
      ]
    },
    {
      "cell_type": "code",
      "source": [
        "a=['a','b','c']\n",
        "b=np.random.choice(a)\n",
        "b"
      ],
      "metadata": {
        "id": "I1DMxHO5J5fn",
        "outputId": "8a81afe9-69bd-43b2-d420-2859776597ed",
        "colab": {
          "base_uri": "https://localhost:8080/",
          "height": 35
        }
      },
      "execution_count": 106,
      "outputs": [
        {
          "output_type": "execute_result",
          "data": {
            "text/plain": [
              "'a'"
            ],
            "application/vnd.google.colaboratory.intrinsic+json": {
              "type": "string"
            }
          },
          "metadata": {},
          "execution_count": 106
        }
      ]
    },
    {
      "cell_type": "code",
      "source": [
        "np.random.normal(1000, 100, size=10)"
      ],
      "metadata": {
        "id": "eZQv6Zj4Kags",
        "outputId": "a54df445-52e8-44e0-d3b4-594c55f39507",
        "colab": {
          "base_uri": "https://localhost:8080/"
        }
      },
      "execution_count": 107,
      "outputs": [
        {
          "output_type": "execute_result",
          "data": {
            "text/plain": [
              "array([1080.70519156, 1214.18053841,  950.43818197, 1052.56374242,\n",
              "        961.03535279, 1093.72964971,  918.30258006, 1101.96154396,\n",
              "        965.85636744, 1075.12813991])"
            ]
          },
          "metadata": {},
          "execution_count": 107
        }
      ]
    },
    {
      "cell_type": "code",
      "source": [
        "np.random.binomial(2, 0.5, size=(2,4))"
      ],
      "metadata": {
        "id": "BkueYWuWKef9",
        "outputId": "9d45b47a-e9bc-4987-9ca7-f2bf0a76c43c",
        "colab": {
          "base_uri": "https://localhost:8080/"
        }
      },
      "execution_count": 108,
      "outputs": [
        {
          "output_type": "execute_result",
          "data": {
            "text/plain": [
              "array([[0, 1, 0, 2],\n",
              "       [0, 1, 2, 2]])"
            ]
          },
          "metadata": {},
          "execution_count": 108
        }
      ]
    }
  ]
}